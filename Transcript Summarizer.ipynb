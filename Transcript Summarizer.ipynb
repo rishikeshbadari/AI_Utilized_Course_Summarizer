{
 "cells": [
  {
   "cell_type": "code",
   "execution_count": null,
   "id": "3052e052",
   "metadata": {},
   "outputs": [],
   "source": [
    "pip install openai"
   ]
  },
  {
   "cell_type": "code",
   "execution_count": null,
   "id": "f2660361",
   "metadata": {},
   "outputs": [],
   "source": [
    "import os\n",
    "import openai\n",
    "# Set your OpenAI API key\n",
    "openai.api_key = \"Enter your OpenAI API key here.\""
   ]
  },
  {
   "cell_type": "code",
   "execution_count": null,
   "id": "6fa7c90e",
   "metadata": {},
   "outputs": [],
   "source": [
    "# Step 1: Specify the path to the \"transcripts\" folder\n",
    "transcripts_folder = \"transcripts\"\n",
    "\n",
    "# Step 2: List all the files in the folder\n",
    "all_files = os.listdir(transcripts_folder)\n",
    "\n",
    "# Step 3 and Step 4: Filter out only the text files\n",
    "text_files = [file for file in all_files if file.endswith(\".txt\")]\n",
    "\n",
    "# Step 5: Print the names of the text files\n",
    "for text_file in text_files:\n",
    "    file_path = \"transcripts/\" + text_file\n",
    "    with open(file_path, 'r') as file:\n",
    "        text = file.read()\n",
    "    print(text_file)\n",
    "    print()\n",
    "    text = text[:16385]\n",
    "    # Make the API call\n",
    "    response = openai.ChatCompletion.create(\n",
    "        model=\"gpt-3.5-turbo-16k\",\n",
    "        messages=[\n",
    "            {\"role\": \"system\", \"content\": \"Give me a list of questions that a student should be able to answer after watching this video.\"},\n",
    "            {\"role\": \"user\", \"content\": text}\n",
    "        ]\n",
    "    )\n",
    "\n",
    "    # Extract the generated message from the API response\n",
    "    generated_message = response['choices'][0]['message']['content']\n",
    "\n",
    "    # Print the generated message\n",
    "    print(generated_message)\n",
    "    print()"
   ]
  },
  {
   "cell_type": "code",
   "execution_count": null,
   "id": "093ee4f0",
   "metadata": {},
   "outputs": [],
   "source": []
  }
 ],
 "metadata": {
  "kernelspec": {
   "display_name": "Python 3 (ipykernel)",
   "language": "python",
   "name": "python3"
  },
  "language_info": {
   "codemirror_mode": {
    "name": "ipython",
    "version": 3
   },
   "file_extension": ".py",
   "mimetype": "text/x-python",
   "name": "python",
   "nbconvert_exporter": "python",
   "pygments_lexer": "ipython3",
   "version": "3.11.4"
  }
 },
 "nbformat": 4,
 "nbformat_minor": 5
}
