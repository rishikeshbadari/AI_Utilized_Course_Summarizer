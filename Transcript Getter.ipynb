{
 "cells": [
  {
   "cell_type": "code",
   "execution_count": null,
   "id": "d4df4bb1",
   "metadata": {},
   "outputs": [],
   "source": [
    "from googleapiclient.discovery import build\n",
    "from youtube_transcript_api import YouTubeTranscriptApi"
   ]
  },
  {
   "cell_type": "code",
   "execution_count": null,
   "id": "7fb020a6",
   "metadata": {},
   "outputs": [],
   "source": [
    "api_key = \"Enter your YouTube Data API here.\"\n",
    "\n",
    "#1.query API \n",
    "\n",
    "rq = build(\"youtube\", \"v3\", developerKey=api_key).playlistItems().list(\n",
    "        part=\"contentDetails, snippet\",\n",
    "        playlistId=\"PLUl4u3cNGP63EdVPNLG3ToM6LaEUuStEY\",\n",
    "        maxResults=39,        \n",
    "        ).execute()\n",
    "        \n",
    "#2.Create a list with video Ids and Titles\n",
    "\n",
    "vid_ids = []\n",
    "vid_title = []\n",
    "for item in rq[\"items\"]:\n",
    "    vid_ids.append(item[\"contentDetails\"][\"videoId\"])\n",
    "    vid_title.append(item[\"snippet\"][\"title\"])\n",
    "\n",
    "#3.Get transcripts\n",
    "\n",
    "srt = YouTubeTranscriptApi.get_transcripts(vid_ids)\n",
    "\n",
    "#4.For each video id extract the Key:\"text\" from a list of dictionaries \n",
    "\n",
    "get_key_text = [\" \".join([a_dict[\"text\"] for a_dict in srt[0][i]]) for i in vid_ids]      \n",
    "\n",
    "#5.Create a dictionary with the title and transcript for each video id\n",
    "\n",
    "pl_dict = dict(zip(vid_title,get_key_text))\n",
    "\n",
    "#6.print trancript under title\n",
    "\n",
    "for key, value in pl_dict.items():\n",
    "    print(key,\"\\n\", value)\n",
    "    print()"
   ]
  },
  {
   "cell_type": "code",
   "execution_count": null,
   "id": "a18cc116",
   "metadata": {},
   "outputs": [],
   "source": [
    "import os\n",
    "\n",
    "# Create a directory to save the transcript files\n",
    "if not os.path.exists(\"transcripts\"):\n",
    "    os.makedirs(\"transcripts\")\n",
    "\n",
    "# Save each transcript in a separate text file\n",
    "for title, transcript in pl_dict.items():\n",
    "    filename = f\"transcripts/{title}.txt\"\n",
    "    with open(filename, \"w\", encoding=\"utf-8\") as file:\n",
    "        file.write(transcript)"
   ]
  },
  {
   "cell_type": "code",
   "execution_count": null,
   "id": "60746c47",
   "metadata": {},
   "outputs": [],
   "source": []
  }
 ],
 "metadata": {
  "kernelspec": {
   "display_name": "Python 3 (ipykernel)",
   "language": "python",
   "name": "python3"
  },
  "language_info": {
   "codemirror_mode": {
    "name": "ipython",
    "version": 3
   },
   "file_extension": ".py",
   "mimetype": "text/x-python",
   "name": "python",
   "nbconvert_exporter": "python",
   "pygments_lexer": "ipython3",
   "version": "3.11.4"
  }
 },
 "nbformat": 4,
 "nbformat_minor": 5
}
